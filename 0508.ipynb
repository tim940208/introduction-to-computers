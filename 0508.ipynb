{
  "nbformat": 4,
  "nbformat_minor": 0,
  "metadata": {
    "colab": {
      "provenance": [],
      "authorship_tag": "ABX9TyM5Q/Wa3Xx9QI7JB2U//I9q",
      "include_colab_link": true
    },
    "kernelspec": {
      "name": "python3",
      "display_name": "Python 3"
    },
    "language_info": {
      "name": "python"
    }
  },
  "cells": [
    {
      "cell_type": "markdown",
      "metadata": {
        "id": "view-in-github",
        "colab_type": "text"
      },
      "source": [
        "<a href=\"https://colab.research.google.com/github/tim940208/introduction-to-computers/blob/main/0508.ipynb\" target=\"_parent\"><img src=\"https://colab.research.google.com/assets/colab-badge.svg\" alt=\"Open In Colab\"/></a>"
      ]
    },
    {
      "cell_type": "code",
      "execution_count": 3,
      "metadata": {
        "colab": {
          "base_uri": "https://localhost:8080/"
        },
        "id": "ITdl9B96lxRu",
        "outputId": "4888b556-4f4b-41a6-c5b8-3eeb71a567f7"
      },
      "outputs": [
        {
          "output_type": "stream",
          "name": "stdout",
          "text": [
            "請輸入體溫：37\n",
            "體溫略高！\n"
          ]
        }
      ],
      "source": [
        "a = float(input('請輸入體溫：'))\n",
        "if (a>=37.5):\n",
        "    print('體溫過高！')\n",
        "elif (a>=37 and a<37.5):\n",
        "    print('體溫略高！')\n",
        "elif (a>=34 and a<37):\n",
        "    print('體溫正常！')\n",
        "else:\n",
        "    print('體溫異常，請重新測量！')"
      ]
    },
    {
      "cell_type": "code",
      "source": [
        "print('計算最終成績')\n",
        "a = int(input('請輸入成績：'))\n",
        "if (a>=90):\n",
        "    print('A')\n",
        "elif (a>=80 and a<90):\n",
        "    print('B')\n",
        "elif (a>=70 and a<80):\n",
        "    print('C')\n",
        "elif (a>=60 and a<70):\n",
        "    print('D')\n",
        "else:\n",
        "    print('E')"
      ],
      "metadata": {
        "colab": {
          "base_uri": "https://localhost:8080/"
        },
        "id": "KOUTZNawn3Od",
        "outputId": "c2e0e6e1-80d4-4d52-a329-3ca5ec943103"
      },
      "execution_count": 4,
      "outputs": [
        {
          "output_type": "stream",
          "name": "stdout",
          "text": [
            "計算最終成績\n",
            "請輸入成績：65\n",
            "D\n"
          ]
        }
      ]
    },
    {
      "cell_type": "code",
      "source": [
        "a = int(input('請輸入月份：'))\n",
        "if (a>=1 and a<=12):\n",
        "  if (a >= 3 and a <= 5):\n",
        "      print('{}月是春天!'.format(a))\n",
        "  elif (a >= 6 and a <= 8):\n",
        "      print('{}月是夏天!'.format(a))\n",
        "  elif (a>=9 and a<=11):\n",
        "      print('{}月是秋天!'.format(a))\n",
        "  else:\n",
        "      print('{}月是冬天!'.format(a))\n",
        "else:\n",
        "    print('月份不在範圍內!')"
      ],
      "metadata": {
        "colab": {
          "base_uri": "https://localhost:8080/"
        },
        "id": "AdgCWLVen3UP",
        "outputId": "ad53b29d-56de-4794-86b0-304568cf32b7"
      },
      "execution_count": 10,
      "outputs": [
        {
          "output_type": "stream",
          "name": "stdout",
          "text": [
            "請輸入月份：111\n",
            "月份不在範圍內!\n"
          ]
        }
      ]
    }
  ]
}