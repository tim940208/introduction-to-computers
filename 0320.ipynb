{
  "nbformat": 4,
  "nbformat_minor": 0,
  "metadata": {
    "colab": {
      "provenance": [],
      "authorship_tag": "ABX9TyMYpJakRB3k3n2Xo8dXYRFo",
      "include_colab_link": true
    },
    "kernelspec": {
      "name": "python3",
      "display_name": "Python 3"
    },
    "language_info": {
      "name": "python"
    }
  },
  "cells": [
    {
      "cell_type": "markdown",
      "metadata": {
        "id": "view-in-github",
        "colab_type": "text"
      },
      "source": [
        "<a href=\"https://colab.research.google.com/github/tim940208/introduction-to-computers/blob/main/0320.ipynb\" target=\"_parent\"><img src=\"https://colab.research.google.com/assets/colab-badge.svg\" alt=\"Open In Colab\"/></a>"
      ]
    },
    {
      "cell_type": "code",
      "execution_count": 4,
      "metadata": {
        "colab": {
          "base_uri": "https://localhost:8080/"
        },
        "id": "TzqaRpw1o_Lc",
        "outputId": "d4480744-f8f2-44be-c23a-7fb7a7c5cad0"
      },
      "outputs": [
        {
          "output_type": "stream",
          "name": "stdout",
          "text": [
            "請輸入國文成績50\n",
            "請輸入英文成績60\n",
            "請輸入數學成績70\n",
            "你的成績總分為:\n",
            "180\n"
          ]
        }
      ],
      "source": [
        "國文 = int(input(\"請輸入國文成績\"))\n",
        "英文 = int(input(\"請輸入英文成績\"))\n",
        "數學 = int(input(\"請輸入數學成績\"))\n",
        "print('你的成績總分為:',國文+英文+數學,sep='\\n')"
      ]
    },
    {
      "cell_type": "code",
      "source": [
        "上底 = int(input(\"請輸入梯形上底長度：\"))\n",
        "下底 = int(input(\"請輸入梯形下底長度：\"))\n",
        "高度 = int(input(\"請輸入梯形的高度：\"))\n",
        "print('上底長度為:',上底,'下底長度為:',下底,'高度為',高度,'梯形面積為',(上底+下底)*高度/2)"
      ],
      "metadata": {
        "colab": {
          "base_uri": "https://localhost:8080/"
        },
        "id": "VCblZ3AgpzSf",
        "outputId": "f0a87910-33cc-4fdd-bee3-a816601e716d"
      },
      "execution_count": 5,
      "outputs": [
        {
          "output_type": "stream",
          "name": "stdout",
          "text": [
            "請輸入梯形上底長度：3\n",
            "請輸入梯形下底長度：4\n",
            "請輸入梯形的高度：3\n",
            "上底長度為: 3 下底長度為: 4 高度為 3 梯形面積為 10.5\n"
          ]
        }
      ]
    },
    {
      "cell_type": "code",
      "source": [
        "身高 = int(input(\"請輸入你的身高(cm)：\"))\n",
        "體重 = int(input(\"請輸入你的體重(kg)：\"))\n",
        "print('身高',身高,'公分',',','體重',體重,'公斤','BMI值為',體重/(身高/100)**2)"
      ],
      "metadata": {
        "colab": {
          "base_uri": "https://localhost:8080/"
        },
        "id": "6VieQQv7r_Sm",
        "outputId": "6669e808-208a-45d7-e6e9-8716b552afaa"
      },
      "execution_count": 6,
      "outputs": [
        {
          "output_type": "stream",
          "name": "stdout",
          "text": [
            "請輸入你的身高(cm)：170\n",
            "請輸入你的體重(kg)：73\n",
            "身高 170 公分 , 體重 73 公斤 BMI值為 25.25951557093426\n"
          ]
        }
      ]
    }
  ]
}